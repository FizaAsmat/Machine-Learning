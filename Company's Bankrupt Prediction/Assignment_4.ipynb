{
  "nbformat": 4,
  "nbformat_minor": 0,
  "metadata": {
    "colab": {
      "provenance": []
    },
    "kernelspec": {
      "name": "python3",
      "display_name": "Python 3"
    },
    "language_info": {
      "name": "python"
    }
  },
  "cells": [
    {
      "cell_type": "code",
      "execution_count": 20,
      "metadata": {
        "id": "FLMEJW8_dAj4"
      },
      "outputs": [],
      "source": [
        "import pandas as pd\n",
        "from sklearn.model_selection import train_test_split\n",
        "from sklearn.preprocessing import StandardScaler\n",
        "\n",
        "data = pd.read_csv('data.csv')\n",
        "\n",
        "# Drop columns with missing values\n",
        "data_cleaned = data.dropna(axis=1)\n",
        "\n",
        "# Separate features (X) and target variable (y)\n",
        "X = data_cleaned.drop('Bankrupt?', axis=1)\n",
        "y = data_cleaned['Bankrupt?']\n",
        "\n",
        "# Split the data into training and testing sets\n",
        "X_train, X_test, y_train, y_test = train_test_split(X, y, test_size=0.2, random_state=42)\n",
        "\n",
        "# Standardize the features using StandardScaler\n",
        "scaler = StandardScaler()\n",
        "X_train_scaled = scaler.fit_transform(X_train)\n",
        "X_test_scaled = scaler.transform(X_test)\n"
      ]
    },
    {
      "cell_type": "code",
      "source": [
        "from sklearn.ensemble import RandomForestClassifier\n",
        "from sklearn.metrics import accuracy_score\n",
        "\n",
        "# Train Random Forest model\n",
        "rf_model = RandomForestClassifier(random_state=42)\n",
        "rf_model.fit(X_train, y_train)\n",
        "\n",
        "# Predict on the test set\n",
        "rf_predictions = rf_model.predict(X_test)\n",
        "\n",
        "# Evaluate accuracy\n",
        "rf_accuracy = accuracy_score(y_test, rf_predictions)\n",
        "print(f\"Random Forest Accuracy: {rf_accuracy}\")\n"
      ],
      "metadata": {
        "colab": {
          "base_uri": "https://localhost:8080/"
        },
        "id": "f3QEs8IDfflB",
        "outputId": "26ddd310-9255-42a3-927f-c81bfdd2f087"
      },
      "execution_count": 21,
      "outputs": [
        {
          "output_type": "stream",
          "name": "stdout",
          "text": [
            "Random Forest Accuracy: 0.967741935483871\n"
          ]
        }
      ]
    },
    {
      "cell_type": "code",
      "source": [
        "from sklearn.linear_model import LogisticRegression\n",
        "from sklearn.metrics import accuracy_score\n",
        "\n",
        "# Train Logistic Regression model\n",
        "logreg_model = LogisticRegression(max_iter=1000,random_state=42)\n",
        "logreg_model.fit(X_train_scaled, y_train)\n",
        "\n",
        "# Predict on the test set\n",
        "logreg_predictions = logreg_model.predict(X_test_scaled)\n",
        "\n",
        "# Evaluate accuracy\n",
        "logreg_accuracy = accuracy_score(y_test, logreg_predictions)\n",
        "print(f\"Logistic Regression Accuracy: {logreg_accuracy}\")\n"
      ],
      "metadata": {
        "colab": {
          "base_uri": "https://localhost:8080/"
        },
        "id": "0LUQP7Swfs8L",
        "outputId": "11511fb0-7435-4368-9b49-8d2dc0419698"
      },
      "execution_count": 22,
      "outputs": [
        {
          "output_type": "stream",
          "name": "stdout",
          "text": [
            "Logistic Regression Accuracy: 0.9648093841642229\n"
          ]
        }
      ]
    }
  ]
}